{
  "cells": [
    {
      "cell_type": "markdown",
      "metadata": {
        "id": "I0Gqb-0IDYfE"
      },
      "source": [
        "**High School Students' Exam Performance Prediction - A Data Science Project**\n",
        "\n",
        "\n",
        "> by **PRAJAKTA SINGHAL**\n",
        "\n",
        "\n",
        "\n",
        "*   📊 **Description**: : This project is based on a dataset containing information on the performance of high school students in exams, including their grades and demographic information. The data was collected from three high schools in the United States.\n",
        "\n",
        "*   📈 **Task** : We are required to use the train.csv dataset to predict the exam scores in the test.csv file. The results should be submitted using the submission.csv template.\n",
        "\n",
        "\n",
        "\n",
        "\n",
        "\n",
        "\n",
        "\n",
        "\n",
        "\n",
        "\n",
        "\n",
        "\n"
      ]
    },
    {
      "cell_type": "code",
      "execution_count": null,
      "metadata": {
        "colab": {
          "base_uri": "https://localhost:8080/",
          "height": 697
        },
        "id": "SXIxVNHADlBn",
        "outputId": "434105ca-a58e-4964-9569-40d5f746616a"
      },
      "outputs": [
        {
          "output_type": "display_data",
          "data": {
            "text/plain": [
              "<IPython.core.display.HTML object>"
            ],
            "text/html": [
              "\n",
              "     <input type=\"file\" id=\"files-ab19cd54-e1ca-41dc-8396-10694c70b638\" name=\"files[]\" multiple disabled\n",
              "        style=\"border:none\" />\n",
              "     <output id=\"result-ab19cd54-e1ca-41dc-8396-10694c70b638\">\n",
              "      Upload widget is only available when the cell has been executed in the\n",
              "      current browser session. Please rerun this cell to enable.\n",
              "      </output>\n",
              "      <script>// Copyright 2017 Google LLC\n",
              "//\n",
              "// Licensed under the Apache License, Version 2.0 (the \"License\");\n",
              "// you may not use this file except in compliance with the License.\n",
              "// You may obtain a copy of the License at\n",
              "//\n",
              "//      http://www.apache.org/licenses/LICENSE-2.0\n",
              "//\n",
              "// Unless required by applicable law or agreed to in writing, software\n",
              "// distributed under the License is distributed on an \"AS IS\" BASIS,\n",
              "// WITHOUT WARRANTIES OR CONDITIONS OF ANY KIND, either express or implied.\n",
              "// See the License for the specific language governing permissions and\n",
              "// limitations under the License.\n",
              "\n",
              "/**\n",
              " * @fileoverview Helpers for google.colab Python module.\n",
              " */\n",
              "(function(scope) {\n",
              "function span(text, styleAttributes = {}) {\n",
              "  const element = document.createElement('span');\n",
              "  element.textContent = text;\n",
              "  for (const key of Object.keys(styleAttributes)) {\n",
              "    element.style[key] = styleAttributes[key];\n",
              "  }\n",
              "  return element;\n",
              "}\n",
              "\n",
              "// Max number of bytes which will be uploaded at a time.\n",
              "const MAX_PAYLOAD_SIZE = 100 * 1024;\n",
              "\n",
              "function _uploadFiles(inputId, outputId) {\n",
              "  const steps = uploadFilesStep(inputId, outputId);\n",
              "  const outputElement = document.getElementById(outputId);\n",
              "  // Cache steps on the outputElement to make it available for the next call\n",
              "  // to uploadFilesContinue from Python.\n",
              "  outputElement.steps = steps;\n",
              "\n",
              "  return _uploadFilesContinue(outputId);\n",
              "}\n",
              "\n",
              "// This is roughly an async generator (not supported in the browser yet),\n",
              "// where there are multiple asynchronous steps and the Python side is going\n",
              "// to poll for completion of each step.\n",
              "// This uses a Promise to block the python side on completion of each step,\n",
              "// then passes the result of the previous step as the input to the next step.\n",
              "function _uploadFilesContinue(outputId) {\n",
              "  const outputElement = document.getElementById(outputId);\n",
              "  const steps = outputElement.steps;\n",
              "\n",
              "  const next = steps.next(outputElement.lastPromiseValue);\n",
              "  return Promise.resolve(next.value.promise).then((value) => {\n",
              "    // Cache the last promise value to make it available to the next\n",
              "    // step of the generator.\n",
              "    outputElement.lastPromiseValue = value;\n",
              "    return next.value.response;\n",
              "  });\n",
              "}\n",
              "\n",
              "/**\n",
              " * Generator function which is called between each async step of the upload\n",
              " * process.\n",
              " * @param {string} inputId Element ID of the input file picker element.\n",
              " * @param {string} outputId Element ID of the output display.\n",
              " * @return {!Iterable<!Object>} Iterable of next steps.\n",
              " */\n",
              "function* uploadFilesStep(inputId, outputId) {\n",
              "  const inputElement = document.getElementById(inputId);\n",
              "  inputElement.disabled = false;\n",
              "\n",
              "  const outputElement = document.getElementById(outputId);\n",
              "  outputElement.innerHTML = '';\n",
              "\n",
              "  const pickedPromise = new Promise((resolve) => {\n",
              "    inputElement.addEventListener('change', (e) => {\n",
              "      resolve(e.target.files);\n",
              "    });\n",
              "  });\n",
              "\n",
              "  const cancel = document.createElement('button');\n",
              "  inputElement.parentElement.appendChild(cancel);\n",
              "  cancel.textContent = 'Cancel upload';\n",
              "  const cancelPromise = new Promise((resolve) => {\n",
              "    cancel.onclick = () => {\n",
              "      resolve(null);\n",
              "    };\n",
              "  });\n",
              "\n",
              "  // Wait for the user to pick the files.\n",
              "  const files = yield {\n",
              "    promise: Promise.race([pickedPromise, cancelPromise]),\n",
              "    response: {\n",
              "      action: 'starting',\n",
              "    }\n",
              "  };\n",
              "\n",
              "  cancel.remove();\n",
              "\n",
              "  // Disable the input element since further picks are not allowed.\n",
              "  inputElement.disabled = true;\n",
              "\n",
              "  if (!files) {\n",
              "    return {\n",
              "      response: {\n",
              "        action: 'complete',\n",
              "      }\n",
              "    };\n",
              "  }\n",
              "\n",
              "  for (const file of files) {\n",
              "    const li = document.createElement('li');\n",
              "    li.append(span(file.name, {fontWeight: 'bold'}));\n",
              "    li.append(span(\n",
              "        `(${file.type || 'n/a'}) - ${file.size} bytes, ` +\n",
              "        `last modified: ${\n",
              "            file.lastModifiedDate ? file.lastModifiedDate.toLocaleDateString() :\n",
              "                                    'n/a'} - `));\n",
              "    const percent = span('0% done');\n",
              "    li.appendChild(percent);\n",
              "\n",
              "    outputElement.appendChild(li);\n",
              "\n",
              "    const fileDataPromise = new Promise((resolve) => {\n",
              "      const reader = new FileReader();\n",
              "      reader.onload = (e) => {\n",
              "        resolve(e.target.result);\n",
              "      };\n",
              "      reader.readAsArrayBuffer(file);\n",
              "    });\n",
              "    // Wait for the data to be ready.\n",
              "    let fileData = yield {\n",
              "      promise: fileDataPromise,\n",
              "      response: {\n",
              "        action: 'continue',\n",
              "      }\n",
              "    };\n",
              "\n",
              "    // Use a chunked sending to avoid message size limits. See b/62115660.\n",
              "    let position = 0;\n",
              "    do {\n",
              "      const length = Math.min(fileData.byteLength - position, MAX_PAYLOAD_SIZE);\n",
              "      const chunk = new Uint8Array(fileData, position, length);\n",
              "      position += length;\n",
              "\n",
              "      const base64 = btoa(String.fromCharCode.apply(null, chunk));\n",
              "      yield {\n",
              "        response: {\n",
              "          action: 'append',\n",
              "          file: file.name,\n",
              "          data: base64,\n",
              "        },\n",
              "      };\n",
              "\n",
              "      let percentDone = fileData.byteLength === 0 ?\n",
              "          100 :\n",
              "          Math.round((position / fileData.byteLength) * 100);\n",
              "      percent.textContent = `${percentDone}% done`;\n",
              "\n",
              "    } while (position < fileData.byteLength);\n",
              "  }\n",
              "\n",
              "  // All done.\n",
              "  yield {\n",
              "    response: {\n",
              "      action: 'complete',\n",
              "    }\n",
              "  };\n",
              "}\n",
              "\n",
              "scope.google = scope.google || {};\n",
              "scope.google.colab = scope.google.colab || {};\n",
              "scope.google.colab._files = {\n",
              "  _uploadFiles,\n",
              "  _uploadFilesContinue,\n",
              "};\n",
              "})(self);\n",
              "</script> "
            ]
          },
          "metadata": {}
        },
        {
          "output_type": "stream",
          "name": "stdout",
          "text": [
            "Saving sample_submission.csv to sample_submission.csv\n",
            "Saving test.csv to test.csv\n",
            "Saving train.csv to train.csv\n",
            "     Roll no test preparation   gender parental level of education  \\\n",
            "0  EXA000001              none    male                some college   \n",
            "1  EXA000002              none    male             master's degree   \n",
            "2  EXA000003              none    male             master's degree   \n",
            "3  EXA000004              none  female                some college   \n",
            "4  EXA000005              none  female                 high school   \n",
            "\n",
            "          lunch    Section  practical score  viva score  exam score  \n",
            "0      standard  Section A               70          73          70  \n",
            "1  free/reduced  Section C               55          54          52  \n",
            "2  free/reduced  Section E               56          46          43  \n",
            "3  free/reduced  Section C               35          47          41  \n",
            "4      standard  Section C               87          92          81  \n",
            "    Roll no test preparation   gender parental level of education     lunch  \\\n",
            "0  EXA32000              none    male          associate's degree  standard   \n",
            "1  EXA32001         completed    male            some high school  standard   \n",
            "2  EXA32002              none    male            some high school  standard   \n",
            "3  EXA32003         completed    male            some high school  standard   \n",
            "4  EXA32004              none  female           bachelor's degree  standard   \n",
            "\n",
            "     Section  practical score  viva score  \n",
            "0  Section C               74          89  \n",
            "1  Section E               66          75  \n",
            "2  Section C               52          55  \n",
            "3  Section D               69          85  \n",
            "4  Section E               46          62  \n",
            "    Roll no  Exam score\n",
            "0  EXA32000           1\n",
            "1  EXA32001           1\n",
            "2  EXA32002           1\n",
            "3  EXA32003           1\n",
            "4  EXA32004           1\n"
          ]
        }
      ],
      "source": [
        "from google.colab import files\n",
        "import pandas as pd\n",
        "import io\n",
        "\n",
        "# Upload files\n",
        "uploaded = files.upload()\n",
        "\n",
        "# Read the uploaded files\n",
        "train_data = pd.read_csv(io.BytesIO(uploaded['train.csv']))\n",
        "test_data = pd.read_csv(io.BytesIO(uploaded['test.csv']))\n",
        "sample_submission = pd.read_csv(io.BytesIO(uploaded['sample_submission.csv']))\n",
        "\n",
        "# Display the first few rows of each dataset to confirm loading\n",
        "print(train_data.head())\n",
        "print(test_data.head())\n",
        "print(sample_submission.head())\n"
      ]
    },
    {
      "cell_type": "markdown",
      "metadata": {
        "id": "-JBgAfbwECU1"
      },
      "source": [
        "**Data Exploration and Visualization**"
      ]
    },
    {
      "cell_type": "code",
      "execution_count": null,
      "metadata": {
        "colab": {
          "base_uri": "https://localhost:8080/",
          "height": 1000
        },
        "id": "icl6nDnkED57",
        "outputId": "15a9c54a-b57d-4a2e-de7c-7bba6cb30c54"
      },
      "outputs": [
        {
          "output_type": "stream",
          "name": "stdout",
          "text": [
            "     Roll no test preparation   gender parental level of education  \\\n",
            "0  EXA000001              none    male                some college   \n",
            "1  EXA000002              none    male             master's degree   \n",
            "2  EXA000003              none    male             master's degree   \n",
            "3  EXA000004              none  female                some college   \n",
            "4  EXA000005              none  female                 high school   \n",
            "\n",
            "          lunch    Section  practical score  viva score  exam score  \n",
            "0      standard  Section A               70          73          70  \n",
            "1  free/reduced  Section C               55          54          52  \n",
            "2  free/reduced  Section E               56          46          43  \n",
            "3  free/reduced  Section C               35          47          41  \n",
            "4      standard  Section C               87          92          81  \n",
            "       practical score    viva score    exam score\n",
            "count     31999.000000  31999.000000  31999.000000\n",
            "mean         67.839870     70.375168     69.139598\n",
            "std          15.229898     14.092764     15.009974\n",
            "min          15.000000     25.000000     15.000000\n",
            "25%          58.000000     61.000000     59.000000\n",
            "50%          68.000000     70.000000     70.000000\n",
            "75%          80.000000     80.000000     80.000000\n",
            "max         100.000000    100.000000    100.000000\n",
            "Roll no                        0\n",
            "test preparation               0\n",
            "gender                         0\n",
            "parental level of education    0\n",
            "lunch                          0\n",
            "Section                        0\n",
            "practical score                0\n",
            "viva score                     0\n",
            "exam score                     0\n",
            "dtype: int64\n"
          ]
        },
        {
          "output_type": "display_data",
          "data": {
            "text/plain": [
              "<Figure size 1000x600 with 1 Axes>"
            ],
            "image/png": "[encoded data removed]"
          },
          "metadata": {}
        },
        {
          "output_type": "stream",
          "name": "stderr",
          "text": [
            "<ipython-input-42-8136a351cf13>:23: FutureWarning: \n",
            "\n",
            "Passing `palette` without assigning `hue` is deprecated and will be removed in v0.14.0. Assign the `x` variable to `hue` and set `legend=False` for the same effect.\n",
            "\n",
            "  sns.boxplot(x='gender', y='exam score', data=train_data, palette='Set2')\n"
          ]
        },
        {
          "output_type": "display_data",
          "data": {
            "text/plain": [
              "<Figure size 1000x600 with 1 Axes>"
            ],
            "image/png": "[encoded data removed]"
          },
          "metadata": {}
        },
        {
          "output_type": "stream",
          "name": "stderr",
          "text": [
            "<ipython-input-42-8136a351cf13>:31: FutureWarning: \n",
            "\n",
            "Passing `palette` without assigning `hue` is deprecated and will be removed in v0.14.0. Assign the `x` variable to `hue` and set `legend=False` for the same effect.\n",
            "\n",
            "  sns.boxplot(x='lunch', y='exam score', data=train_data, palette='Set3')\n"
          ]
        },
        {
          "output_type": "display_data",
          "data": {
            "text/plain": [
              "<Figure size 1000x600 with 1 Axes>"
            ],
            "image/png": "[encoded data removed]"
          },
          "metadata": {}
        },
        {
          "output_type": "display_data",
          "data": {
            "text/plain": [
              "<Figure size 1200x800 with 2 Axes>"
            ],
            "image/png": "[encoded data removed]"
          },
          "metadata": {}
        }
      ],
      "source": [
        "import matplotlib.pyplot as plt\n",
        "import seaborn as sns\n",
        "\n",
        "# Display the first few rows of the training data\n",
        "print(train_data.head())\n",
        "\n",
        "# Summary statistics\n",
        "print(train_data.describe())\n",
        "\n",
        "# Check for missing values\n",
        "print(train_data.isnull().sum())\n",
        "\n",
        "# Visualize the distribution of exam scores\n",
        "plt.figure(figsize=(10, 6))\n",
        "sns.histplot(train_data['exam score'], kde=True, color='blue')\n",
        "plt.title('Distribution of Exam Scores')\n",
        "plt.xlabel('exam score')\n",
        "plt.ylabel('Frequency')\n",
        "plt.show()\n",
        "\n",
        "# Boxplot to visualize the distribution of exam scores by gender\n",
        "plt.figure(figsize=(10, 6))\n",
        "sns.boxplot(x='gender', y='exam score', data=train_data, palette='Set2')\n",
        "plt.title('Exam Scores by Gender')\n",
        "plt.xlabel('gender')\n",
        "plt.ylabel('exam score')\n",
        "plt.show()\n",
        "\n",
        "# Boxplot to visualize the distribution of exam scores by lunch\n",
        "plt.figure(figsize=(10, 6))\n",
        "sns.boxplot(x='lunch', y='exam score', data=train_data, palette='Set3')\n",
        "plt.title('Exam Scores by Lunch')\n",
        "plt.xlabel('lunch')\n",
        "plt.ylabel('exam score')\n",
        "plt.show()\n",
        "\n",
        "# Correlation matrix to understand relationships between numerical features\n",
        "numeric_cols = train_data.select_dtypes(include='number')\n",
        "plt.figure(figsize=(12, 8))\n",
        "corr_matrix = numeric_cols.corr()\n",
        "sns.heatmap(corr_matrix, annot=True, cmap='coolwarm')\n",
        "plt.title('Correlation Matrix')\n",
        "plt.show()\n"
      ]
    },
    {
      "cell_type": "code",
      "execution_count": null,
      "metadata": {
        "colab": {
          "base_uri": "https://localhost:8080/"
        },
        "id": "vVowU_M6EyNj",
        "outputId": "6fa19deb-6413-49f2-a6d0-c2cd2636941b"
      },
      "outputs": [
        {
          "output_type": "stream",
          "name": "stdout",
          "text": [
            "Columns in train_data: Index(['Roll no', 'test preparation ', 'gender', 'parental level of education',\n",
            "       'lunch', 'Section', 'practical score', 'viva score', 'exam score'],\n",
            "      dtype='object')\n",
            "Columns in test_data: Index(['Roll no', 'test preparation ', 'gender', 'parental level of education',\n",
            "       'lunch', 'Section', 'practical score', 'viva score'],\n",
            "      dtype='object')\n"
          ]
        }
      ],
      "source": [
        "# Display the column names of train_data and test_data\n",
        "print(\"Columns in train_data:\", train_data.columns)\n",
        "print(\"Columns in test_data:\", test_data.columns)"
      ]
    },
    {
      "cell_type": "markdown",
      "metadata": {
        "id": "Giu4RsQEEJi-"
      },
      "source": [
        "**Data Preprocessing**"
      ]
    },
    {
      "cell_type": "code",
      "execution_count": null,
      "metadata": {
        "colab": {
          "base_uri": "https://localhost:8080/"
        },
        "id": "ilwaB_x6ENAL",
        "outputId": "2062c4e6-3404-42eb-fc1a-0daef2e74deb"
      },
      "outputs": [
        {
          "output_type": "stream",
          "name": "stdout",
          "text": [
            "Columns in train_data before encoding: Index(['Roll no', 'test preparation ', 'practical score', 'viva score',\n",
            "       'exam score', 'gender_female', 'gender_male', 'Section_Section A',\n",
            "       'Section_Section B', 'Section_Section C', 'Section_Section D',\n",
            "       'Section_Section E', 'parental level of education_associate's degree',\n",
            "       'parental level of education_bachelor's degree',\n",
            "       'parental level of education_high school',\n",
            "       'parental level of education_master's degree',\n",
            "       'parental level of education_some college',\n",
            "       'parental level of education_some high school', 'lunch_free/reduced',\n",
            "       'lunch_standard'],\n",
            "      dtype='object')\n",
            "Columns in test_data before encoding: Index(['test preparation ', 'practical score', 'viva score', 'gender_female',\n",
            "       'gender_male', 'Section_Section A', 'Section_Section B',\n",
            "       'Section_Section C', 'Section_Section D', 'Section_Section E',\n",
            "       'parental level of education_associate's degree',\n",
            "       'parental level of education_bachelor's degree',\n",
            "       'parental level of education_high school',\n",
            "       'parental level of education_master's degree',\n",
            "       'parental level of education_some college',\n",
            "       'parental level of education_some high school', 'lunch_free/reduced',\n",
            "       'lunch_standard'],\n",
            "      dtype='object')\n",
            "X_train shape: (25599, 19)\n",
            "X_val shape: (6400, 19)\n",
            "Test data shape: (100, 19)\n",
            "First 5 rows of X_train: [[ 0.27185083  1.54021941  0.99886778 -0.99886778 -0.29032721 -0.50269642\n",
            "  -0.69248822 -0.58560532  2.46762476  1.96311262 -0.34352107 -0.51838385\n",
            "  -0.30203143 -0.53472383 -0.45364489 -0.70953204  0.70953204 -0.72120083\n",
            "   0.72120083]\n",
            " [ 0.53336825  0.18718211  0.99886778 -0.99886778 -0.29032721 -0.50269642\n",
            "  -0.69248822  1.70763477 -0.405248   -0.50939513 -0.34352107 -0.51838385\n",
            "  -0.30203143  1.87012425 -0.45364489  1.40937962 -1.40937962 -0.72120083\n",
            "   0.72120083]\n",
            " [-2.01642661 -2.16283005 -1.0011335   1.0011335   3.44438951 -0.50269642\n",
            "  -0.69248822 -0.58560532 -0.405248    1.96311262 -0.34352107 -0.51838385\n",
            "  -0.30203143 -0.53472383 -0.45364489 -0.70953204  0.70953204 -0.72120083\n",
            "   0.72120083]\n",
            " [ 0.07571276 -0.66736777  0.99886778 -0.99886778 -0.29032721  1.98927216\n",
            "  -0.69248822 -0.58560532 -0.405248   -0.50939513 -0.34352107 -0.51838385\n",
            "  -0.30203143  1.87012425 -0.45364489  1.40937962 -1.40937962 -0.72120083\n",
            "   0.72120083]\n",
            " [ 0.79488567 -0.31130532  0.99886778 -0.99886778 -0.29032721 -0.50269642\n",
            "   1.44406788 -0.58560532 -0.405248   -0.50939513 -0.34352107 -0.51838385\n",
            "   3.3109137  -0.53472383 -0.45364489 -0.70953204  0.70953204 -0.72120083\n",
            "   0.72120083]]\n"
          ]
        }
      ],
      "source": [
        "import pandas as pd\n",
        "from sklearn.model_selection import train_test_split\n",
        "from sklearn.preprocessing import StandardScaler\n",
        "from sklearn.impute import SimpleImputer\n",
        "\n",
        "# Ensure the test_data has the same columns as train_data except for 'exam score'\n",
        "if 'exam score' in test_data.columns:\n",
        "    test_data = test_data.drop(columns=['exam score'])\n",
        "\n",
        "# Impute missing values with the mean for training data\n",
        "imputer = SimpleImputer(strategy='mean')\n",
        "\n",
        "# Identify numerical columns\n",
        "numerical_columns = ['practical score', 'viva score', 'exam score']\n",
        "\n",
        "# Fit the imputer on the numerical columns of the train_data\n",
        "train_data[numerical_columns] = imputer.fit_transform(train_data[numerical_columns])\n",
        "\n",
        "# Impute missing values with the mean for test data, without 'exam score'\n",
        "test_data[['practical score', 'viva score']] = SimpleImputer(strategy='mean').fit_transform(test_data[['practical score', 'viva score']])\n",
        "\n",
        "# Display column names before one-hot encoding\n",
        "print(\"Columns in train_data before encoding:\", train_data.columns)\n",
        "print(\"Columns in test_data before encoding:\", test_data.columns)\n",
        "\n",
        "# One-hot encode categorical variables\n",
        "categorical_columns = ['gender', 'Section', 'parental level of education', 'lunch', 'test preparation ']\n",
        "train_data = pd.get_dummies(train_data, columns=[col for col in categorical_columns if col in train_data.columns])\n",
        "test_data = pd.get_dummies(test_data, columns=[col for col in categorical_columns if col in test_data.columns])\n",
        "\n",
        "# Align the test data to match the training data columns\n",
        "test_data = test_data.reindex(columns=train_data.columns, fill_value=0)\n",
        "\n",
        "# Drop the target variable 'exam score' from test_data if it exists\n",
        "if 'exam score' in test_data.columns:\n",
        "    test_data = test_data.drop(columns=['exam score'])\n",
        "\n",
        "# Separate features and target variable from training data\n",
        "X = train_data.drop(['Roll no', 'exam score'], axis=1)\n",
        "y = train_data['exam score']\n",
        "\n",
        "# Split the training data into training and validation sets\n",
        "X_train, X_val, y_train, y_val = train_test_split(X, y, test_size=0.2, random_state=42)\n",
        "\n",
        "# Drop 'Roll no' from test_data before scaling\n",
        "test_data = test_data.drop(columns=['Roll no'])\n",
        "\n",
        "# Ensure there are no missing values before scaling\n",
        "imputer = SimpleImputer(strategy='mean')\n",
        "\n",
        "# Apply imputer and reapply column names\n",
        "X_train_columns = X_train.columns\n",
        "X_val_columns = X_val.columns\n",
        "test_data_columns = test_data.columns\n",
        "\n",
        "X_train = pd.DataFrame(imputer.fit_transform(X_train), columns=X_train_columns)\n",
        "X_val = pd.DataFrame(imputer.transform(X_val), columns=X_val_columns)\n",
        "test_data = pd.DataFrame(imputer.transform(test_data), columns=test_data_columns)\n",
        "\n",
        "# Standardize the features\n",
        "scaler = StandardScaler()\n",
        "X_train = scaler.fit_transform(X_train)\n",
        "X_val = scaler.transform(X_val)\n",
        "test_data_scaled = scaler.transform(test_data)\n",
        "\n",
        "# Display some information about the transformed data\n",
        "print(\"X_train shape:\", X_train.shape)\n",
        "print(\"X_val shape:\", X_val.shape)\n",
        "print(\"Test data shape:\", test_data.shape)\n",
        "print(\"First 5 rows of X_train:\", X_train[:5])\n"
      ]
    },
    {
      "cell_type": "markdown",
      "metadata": {
        "id": "wwzhIJLtJ1q9"
      },
      "source": [
        "**Model Training and Hyperparameter Tuning**"
      ]
    },
    {
      "cell_type": "markdown",
      "metadata": {
        "id": "jIRHHNNMTdQD"
      },
      "source": [
        "`Train the Random Forest and Gradient Boosting models using hyperparameter tuning.`"
      ]
    },
    {
      "cell_type": "code",
      "execution_count": null,
      "metadata": {
        "colab": {
          "base_uri": "https://localhost:8080/"
        },
        "id": "9u5MWNffESqY",
        "outputId": "4e9ee5c7-6a03-47a3-a19e-c902811331fd"
      },
      "outputs": [
        {
          "output_type": "stream",
          "name": "stdout",
          "text": [
            "Fitting 2 folds for each of 20 candidates, totalling 40 fits\n",
            "Best parameters: {'n_estimators': 100, 'min_samples_split': 10, 'min_samples_leaf': 2, 'max_depth': 10}\n",
            "Random Forest MSE: 220.99053741002012\n",
            "Fitting 2 folds for each of 243 candidates, totalling 486 fits\n",
            "Best parameters for Gradient Boosting: {'learning_rate': 0.01, 'max_depth': 5, 'min_samples_leaf': 2, 'min_samples_split': 2, 'n_estimators': 100}\n",
            "Gradient Boosting MSE: 220.8265501770185\n"
          ]
        }
      ],
      "source": [
        "from sklearn.ensemble import RandomForestRegressor, GradientBoostingRegressor\n",
        "from sklearn.model_selection import RandomizedSearchCV, GridSearchCV\n",
        "from sklearn.metrics import mean_squared_error\n",
        "import numpy as np\n",
        "\n",
        "# Random Forest model and hyperparameter tuning\n",
        "rf_model = RandomForestRegressor(random_state=42)\n",
        "param_dist = {\n",
        "    'n_estimators': [100, 200, 300],\n",
        "    'max_depth': [None, 10, 20, 30],\n",
        "    'min_samples_split': [2, 5, 10],\n",
        "    'min_samples_leaf': [1, 2, 4]\n",
        "}\n",
        "random_search_rf = RandomizedSearchCV(rf_model, param_distributions=param_dist, n_iter=20, cv=2, scoring='neg_mean_squared_error', n_jobs=-1, random_state=42, verbose=2)\n",
        "random_search_rf.fit(X_train, y_train)\n",
        "\n",
        "# Get best hyperparameters and make predictions on the validation set\n",
        "if hasattr(random_search_rf, 'best_estimator_'):\n",
        "    print(f'Best parameters: {random_search_rf.best_params_}')\n",
        "    y_pred_rf = random_search_rf.best_estimator_.predict(X_val)\n",
        "    mse_rf = mean_squared_error(y_val, y_pred_rf)\n",
        "    print(f'Random Forest MSE: {mse_rf}')\n",
        "else:\n",
        "    print(\"RandomizedSearchCV did not find a best estimator.\")\n",
        "\n",
        "# Gradient Boosting model and hyperparameter tuning\n",
        "gb_model = GradientBoostingRegressor(random_state=42)\n",
        "param_grid_gb = {\n",
        "    'n_estimators': [100, 200, 300],\n",
        "    'learning_rate': [0.01, 0.1, 0.2],\n",
        "    'max_depth': [3, 5, 7],\n",
        "    'min_samples_split': [2, 5, 10],\n",
        "    'min_samples_leaf': [1, 2, 4]\n",
        "}\n",
        "grid_search_gb = GridSearchCV(gb_model, param_grid=param_grid_gb, cv=2, scoring='neg_mean_squared_error', n_jobs=-1, verbose=2)\n",
        "grid_search_gb.fit(X_train, y_train)\n",
        "\n",
        "# Get best hyperparameters and make predictions on the validation set\n",
        "if hasattr(grid_search_gb, 'best_estimator_'):\n",
        "    print(f'Best parameters for Gradient Boosting: {grid_search_gb.best_params_}')\n",
        "    y_pred_gb = grid_search_gb.best_estimator_.predict(X_val)\n",
        "    mse_gb = mean_squared_error(y_val, y_pred_gb)\n",
        "    print(f'Gradient Boosting MSE: {mse_gb}')\n",
        "else:\n",
        "    print(\"GridSearchCV did not find a best estimator.\")\n",
        "\n",
        "# Evaluate models if hyperparameter tuning did not find the best estimators\n",
        "if not hasattr(random_search_rf, 'best_estimator_'):\n",
        "    rf_model.fit(X_train, y_train)\n",
        "    y_pred_rf = rf_model.predict(X_val)\n",
        "    mse_rf = mean_squared_error(y_val, y_pred_rf)\n",
        "    print(f'Random Forest MSE: {mse_rf}')\n",
        "\n",
        "if not hasattr(grid_search_gb, 'best_estimator_'):\n",
        "    gb_model.fit(X_train, y_train)\n",
        "    y_pred_gb = gb_model.predict(X_val)\n",
        "    mse_gb = mean_squared_error(y_val, y_pred_gb)\n",
        "    print(f'Gradient Boosting MSE: {mse_gb}')\n"
      ]
    },
    {
      "cell_type": "markdown",
      "source": [
        "**Make Predictions on Test Data and Save Submission File**"
      ],
      "metadata": {
        "id": "XagpyIKnNHrd"
      }
    },
    {
      "cell_type": "code",
      "source": [
        "# Make predictions on the test data using the best Random Forest model\n",
        "if hasattr(random_search_rf, 'best_estimator_'):\n",
        "    test_predictions_rf = random_search_rf.best_estimator_.predict(test_data_scaled)\n",
        "else:\n",
        "    test_predictions_rf = None\n",
        "    print(\"RandomizedSearchCV did not find a best estimator for Random Forest. Skipping predictions.\")\n",
        "\n",
        "# Make predictions on the test data using the best Gradient Boosting model\n",
        "if hasattr(grid_search_gb, 'best_estimator_'):\n",
        "    test_predictions_gb = grid_search_gb.best_estimator_.predict(test_data_scaled)\n",
        "else:\n",
        "    test_predictions_gb = None\n",
        "    print(\"GridSearchCV did not find a best estimator for Gradient Boosting. Skipping predictions.\")\n",
        "\n",
        "# Combine predictions from both models if available\n",
        "if test_predictions_rf is not None and test_predictions_gb is not None:\n",
        "    final_predictions = (test_predictions_rf + test_predictions_gb) / 2\n",
        "elif test_predictions_rf is not None:\n",
        "    final_predictions = test_predictions_rf\n",
        "elif test_predictions_gb is not None:\n",
        "    final_predictions = test_predictions_gb\n",
        "else:\n",
        "    final_predictions = None\n",
        "\n",
        "# Ensure final_predictions are available before proceeding\n",
        "if final_predictions is not None:\n",
        "    # Create a DataFrame for the submission\n",
        "    submission = pd.DataFrame({'Roll no': sample_submission['Roll no'], 'exam score': final_predictions})\n",
        "\n",
        "    # Save the submission file\n",
        "    submission.to_csv('submission.csv', index=False)\n",
        "    print(\"Submission file created successfully!\")\n",
        "else:\n",
        "    print(\"No final predictions available. Submission file not created.\")\n"
      ],
      "metadata": {
        "colab": {
          "base_uri": "https://localhost:8080/"
        },
        "id": "I0o51XLhJkha",
        "outputId": "822b4ab9-62dd-45c6-e454-0dd718c630eb"
      },
      "execution_count": null,
      "outputs": [
        {
          "output_type": "stream",
          "name": "stdout",
          "text": [
            "Submission file created successfully!\n"
          ]
        }
      ]
    },
    {
      "cell_type": "markdown",
      "source": [
        "`Download the file `"
      ],
      "metadata": {
        "id": "878fkREOhA6-"
      }
    },
    {
      "cell_type": "code",
      "source": [
        "from google.colab import files\n",
        "\n",
        "# This will download the 'submission.csv' file to your local machine\n",
        "files.download('submission.csv')\n"
      ],
      "metadata": {
        "colab": {
          "base_uri": "https://localhost:8080/",
          "height": 17
        },
        "id": "glgFySDDhDNi",
        "outputId": "5d2689cc-27ef-4b5c-f937-c6921a87c2e1"
      },
      "execution_count": null,
      "outputs": [
        {
          "output_type": "display_data",
          "data": {
            "text/plain": [
              "<IPython.core.display.Javascript object>"
            ],
            "application/javascript": [
              "\n",
              "    async function download(id, filename, size) {\n",
              "      if (!google.colab.kernel.accessAllowed) {\n",
              "        return;\n",
              "      }\n",
              "      const div = document.createElement('div');\n",
              "      const label = document.createElement('label');\n",
              "      label.textContent = `Downloading \"${filename}\": `;\n",
              "      div.appendChild(label);\n",
              "      const progress = document.createElement('progress');\n",
              "      progress.max = size;\n",
              "      div.appendChild(progress);\n",
              "      document.body.appendChild(div);\n",
              "\n",
              "      const buffers = [];\n",
              "      let downloaded = 0;\n",
              "\n",
              "      const channel = await google.colab.kernel.comms.open(id);\n",
              "      // Send a message to notify the kernel that we're ready.\n",
              "      channel.send({})\n",
              "\n",
              "      for await (const message of channel.messages) {\n",
              "        // Send a message to notify the kernel that we're ready.\n",
              "        channel.send({})\n",
              "        if (message.buffers) {\n",
              "          for (const buffer of message.buffers) {\n",
              "            buffers.push(buffer);\n",
              "            downloaded += buffer.byteLength;\n",
              "            progress.value = downloaded;\n",
              "          }\n",
              "        }\n",
              "      }\n",
              "      const blob = new Blob(buffers, {type: 'application/binary'});\n",
              "      const a = document.createElement('a');\n",
              "      a.href = window.URL.createObjectURL(blob);\n",
              "      a.download = filename;\n",
              "      div.appendChild(a);\n",
              "      a.click();\n",
              "      div.remove();\n",
              "    }\n",
              "  "
            ]
          },
          "metadata": {}
        },
        {
          "output_type": "display_data",
          "data": {
            "text/plain": [
              "<IPython.core.display.Javascript object>"
            ],
            "application/javascript": [
              "download(\"download_b932a937-212a-4621-99ae-e51a015f35bb\", \"submission.csv\", 2704)"
            ]
          },
          "metadata": {}
        }
      ]
    }
  ],
  "metadata": {
    "colab": {
      "provenance": []
    },
    "kernelspec": {
      "display_name": "Python 3",
      "name": "python3"
    },
    "language_info": {
      "name": "python"
    }
  },
  "nbformat": 4,
  "nbformat_minor": 0
}